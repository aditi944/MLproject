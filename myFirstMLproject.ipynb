{
  "nbformat": 4,
  "nbformat_minor": 0,
  "metadata": {
    "colab": {
      "name": "myFirstMLproject.ipynb",
      "provenance": [],
      "collapsed_sections": [],
      "authorship_tag": "ABX9TyNdS2dXki1bcSgKuYXG3ete",
      "include_colab_link": true
    },
    "kernelspec": {
      "name": "python3",
      "display_name": "Python 3"
    }
  },
  "cells": [
    {
      "cell_type": "markdown",
      "metadata": {
        "id": "view-in-github",
        "colab_type": "text"
      },
      "source": [
        "<a href=\"https://colab.research.google.com/github/ananya0504/MLproject/blob/main/myFirstMLproject.ipynb\" target=\"_parent\"><img src=\"https://colab.research.google.com/assets/colab-badge.svg\" alt=\"Open In Colab\"/></a>"
      ]
    },
    {
      "cell_type": "code",
      "metadata": {
        "id": "5Zc7ua60sBr3"
      },
      "source": [
        "import pandas as pd\r\n",
        "import numpy as np"
      ],
      "execution_count": 2,
      "outputs": []
    },
    {
      "cell_type": "code",
      "metadata": {
        "id": "Yt8WgX_k3_7e"
      },
      "source": [
        "from sklearn.datasets import load_iris #sklearn is the framework, datasets is the module and load_iris is the function\r\n",
        "iris_dataset = load_iris()"
      ],
      "execution_count": 4,
      "outputs": []
    },
    {
      "cell_type": "code",
      "metadata": {
        "colab": {
          "base_uri": "https://localhost:8080/"
        },
        "id": "sNH0tLRv4Q2g",
        "outputId": "a3ac9932-beae-4d68-ea19-ae33bac24eab"
      },
      "source": [
        "print(\"Keys of iris_dataset are : \\n{}\".format(iris_dataset.keys()) )"
      ],
      "execution_count": 5,
      "outputs": [
        {
          "output_type": "stream",
          "text": [
            "Keys of iris_dataset are : \n",
            "dict_keys(['data', 'target', 'target_names', 'DESCR', 'feature_names', 'filename'])\n"
          ],
          "name": "stdout"
        }
      ]
    },
    {
      "cell_type": "code",
      "metadata": {
        "colab": {
          "base_uri": "https://localhost:8080/"
        },
        "id": "gu4Swxmo8kzB",
        "outputId": "f6bfce80-7d51-418b-db13-29b9eea07541"
      },
      "source": [
        "val = iris_dataset['DESCR']\r\n",
        "start_val= val[:200]\r\n",
        "print(start_val + \"\\n...\")"
      ],
      "execution_count": 6,
      "outputs": [
        {
          "output_type": "stream",
          "text": [
            ".. _iris_dataset:\n",
            "\n",
            "Iris plants dataset\n",
            "--------------------\n",
            "\n",
            "**Data Set Characteristics:**\n",
            "\n",
            "    :Number of Instances: 150 (50 in each of three classes)\n",
            "    :Number of Attributes: 4 numeric, predictive\n",
            "...\n"
          ],
          "name": "stdout"
        }
      ]
    },
    {
      "cell_type": "code",
      "metadata": {
        "colab": {
          "base_uri": "https://localhost:8080/"
        },
        "id": "03iBCajq_qfY",
        "outputId": "b37a83df-216c-46a1-920c-f92edc19d0a3"
      },
      "source": [
        "print(\"Target names : {}\".format(iris_dataset['target_names']) ) #the species of flowers we want to predict"
      ],
      "execution_count": 11,
      "outputs": [
        {
          "output_type": "stream",
          "text": [
            "Target names : ['setosa' 'versicolor' 'virginica']\n"
          ],
          "name": "stdout"
        }
      ]
    },
    {
      "cell_type": "code",
      "metadata": {
        "colab": {
          "base_uri": "https://localhost:8080/"
        },
        "id": "QRIsnzzrAeyp",
        "outputId": "c37c9433-153f-4600-83d4-2f9a1523eade"
      },
      "source": [
        "print(\"Feature names : {}\".format(iris_dataset['feature_names']) ) #the description of each feature of a flower"
      ],
      "execution_count": 12,
      "outputs": [
        {
          "output_type": "stream",
          "text": [
            "Feature names : ['sepal length (cm)', 'sepal width (cm)', 'petal length (cm)', 'petal width (cm)']\n"
          ],
          "name": "stdout"
        }
      ]
    },
    {
      "cell_type": "code",
      "metadata": {
        "colab": {
          "base_uri": "https://localhost:8080/"
        },
        "id": "ikX4HZHeCSj1",
        "outputId": "facbd27a-13f6-4b51-af7a-8b33d304469e"
      },
      "source": [
        "print(\"Type of data : {}\".format(type(iris_dataset['data']))) #the type in which we recieve data"
      ],
      "execution_count": 13,
      "outputs": [
        {
          "output_type": "stream",
          "text": [
            "Type of data : <class 'numpy.ndarray'>\n"
          ],
          "name": "stdout"
        }
      ]
    },
    {
      "cell_type": "code",
      "metadata": {
        "colab": {
          "base_uri": "https://localhost:8080/"
        },
        "id": "tJPUGXrhDbCd",
        "outputId": "38d782ea-0417-4f3c-b107-17d60b0b9abd"
      },
      "source": [
        "print(\"Shape of data : {}\".format(iris_dataset['data'].shape)) #the rows represnt 150 flowers while the columns represent the 4 feature measurements\r\n",
        "#Individual items are called samples or data points and their properties are called features\r\n",
        "#shape is the number of samples multiplied by the number of features"
      ],
      "execution_count": 18,
      "outputs": [
        {
          "output_type": "stream",
          "text": [
            "Shape of data : (150, 4)\n"
          ],
          "name": "stdout"
        }
      ]
    },
    {
      "cell_type": "code",
      "metadata": {
        "colab": {
          "base_uri": "https://localhost:8080/"
        },
        "id": "6p9FortrEEKJ",
        "outputId": "1a1f7c11-f435-4370-c5f5-e0ea6185f04a"
      },
      "source": [
        "print(\"First five columns of data : \\n{}\".format(iris_dataset['data'][:5]))  # we observe that the all the flowers have the same petal width and the \r\n",
        "# first flower has the max sepal width"
      ],
      "execution_count": 22,
      "outputs": [
        {
          "output_type": "stream",
          "text": [
            "First five columns of data : \n",
            "[[5.1 3.5 1.4 0.2]\n",
            " [4.9 3.  1.4 0.2]\n",
            " [4.7 3.2 1.3 0.2]\n",
            " [4.6 3.1 1.5 0.2]\n",
            " [5.  3.6 1.4 0.2]]\n"
          ],
          "name": "stdout"
        }
      ]
    },
    {
      "cell_type": "code",
      "metadata": {
        "colab": {
          "base_uri": "https://localhost:8080/"
        },
        "id": "ikW3lhD1H4Cu",
        "outputId": "18b99be4-d1aa-4b47-878e-54f825ef1416"
      },
      "source": [
        "print(\"Type of Target : {}\".format(type(iris_dataset['target']))) #the type in which we recieve the target"
      ],
      "execution_count": 21,
      "outputs": [
        {
          "output_type": "stream",
          "text": [
            "Type of Target : <class 'numpy.ndarray'>\n"
          ],
          "name": "stdout"
        }
      ]
    },
    {
      "cell_type": "code",
      "metadata": {
        "colab": {
          "base_uri": "https://localhost:8080/"
        },
        "id": "XL_DThzaIN7V",
        "outputId": "d4d2728e-c4b2-4184-d389-80191000ede2"
      },
      "source": [
        "print(\"Shape of Target : {}\".format(iris_dataset['target'].shape)) #we see that is has one entry per flower"
      ],
      "execution_count": 23,
      "outputs": [
        {
          "output_type": "stream",
          "text": [
            "Shape of Target : (150,)\n"
          ],
          "name": "stdout"
        }
      ]
    },
    {
      "cell_type": "code",
      "metadata": {
        "colab": {
          "base_uri": "https://localhost:8080/"
        },
        "id": "Uk77N5AyIeUO",
        "outputId": "be8d3f77-a53f-4316-bc37-a5652c718ba2"
      },
      "source": [
        "print(\"Target : {}\".format(iris_dataset['target'])) #we see that the species are encoded as digits between 0-2\r\n",
        "#0-sentose 1-versicolor 2-virginica"
      ],
      "execution_count": 24,
      "outputs": [
        {
          "output_type": "stream",
          "text": [
            "Target : [0 0 0 0 0 0 0 0 0 0 0 0 0 0 0 0 0 0 0 0 0 0 0 0 0 0 0 0 0 0 0 0 0 0 0 0 0\n",
            " 0 0 0 0 0 0 0 0 0 0 0 0 0 1 1 1 1 1 1 1 1 1 1 1 1 1 1 1 1 1 1 1 1 1 1 1 1\n",
            " 1 1 1 1 1 1 1 1 1 1 1 1 1 1 1 1 1 1 1 1 1 1 1 1 1 1 2 2 2 2 2 2 2 2 2 2 2\n",
            " 2 2 2 2 2 2 2 2 2 2 2 2 2 2 2 2 2 2 2 2 2 2 2 2 2 2 2 2 2 2 2 2 2 2 2 2 2\n",
            " 2 2]\n"
          ],
          "name": "stdout"
        }
      ]
    }
  ]
}